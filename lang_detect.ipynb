{
 "cells": [
  {
   "cell_type": "code",
   "execution_count": 76,
   "id": "e6c61d63",
   "metadata": {
    "pycharm": {
     "name": "#%%\n"
    }
   },
   "outputs": [
    {
     "data": {
      "text/html": [
       "<div>\n",
       "<style scoped>\n",
       "    .dataframe tbody tr th:only-of-type {\n",
       "        vertical-align: middle;\n",
       "    }\n",
       "\n",
       "    .dataframe tbody tr th {\n",
       "        vertical-align: top;\n",
       "    }\n",
       "\n",
       "    .dataframe thead th {\n",
       "        text-align: right;\n",
       "    }\n",
       "</style>\n",
       "<table border=\"1\" class=\"dataframe\">\n",
       "  <thead>\n",
       "    <tr style=\"text-align: right;\">\n",
       "      <th></th>\n",
       "      <th>labels</th>\n",
       "      <th>text</th>\n",
       "    </tr>\n",
       "  </thead>\n",
       "  <tbody>\n",
       "    <tr>\n",
       "      <th>0</th>\n",
       "      <td>nl</td>\n",
       "      <td>Een man zingt en speelt gitaar.</td>\n",
       "    </tr>\n",
       "    <tr>\n",
       "      <th>1</th>\n",
       "      <td>nl</td>\n",
       "      <td>De technologisch geplaatste Nasdaq Composite I...</td>\n",
       "    </tr>\n",
       "    <tr>\n",
       "      <th>2</th>\n",
       "      <td>es</td>\n",
       "      <td>Es muy resistente la parte trasera rÃ­gida y l...</td>\n",
       "    </tr>\n",
       "    <tr>\n",
       "      <th>3</th>\n",
       "      <td>it</td>\n",
       "      <td>\"In tanti modi diversi, l'abilitÃ  artistica d...</td>\n",
       "    </tr>\n",
       "    <tr>\n",
       "      <th>7</th>\n",
       "      <td>nl</td>\n",
       "      <td>Verschillende mensen op motorfietsen op een ma...</td>\n",
       "    </tr>\n",
       "  </tbody>\n",
       "</table>\n",
       "</div>"
      ],
      "text/plain": [
       "  labels                                               text\n",
       "0     nl                    Een man zingt en speelt gitaar.\n",
       "1     nl  De technologisch geplaatste Nasdaq Composite I...\n",
       "2     es  Es muy resistente la parte trasera rÃ­gida y l...\n",
       "3     it  \"In tanti modi diversi, l'abilitÃ  artistica d...\n",
       "7     nl  Verschillende mensen op motorfietsen op een ma..."
      ]
     },
     "execution_count": 76,
     "metadata": {},
     "output_type": "execute_result"
    }
   ],
   "source": [
    "import pandas as pd\n",
    "\n",
    "data1 = './data/data.csv'\n",
    "\n",
    "# Remove some languages from the data\n",
    "drop_list = ['vi', 'ja', 'zh', 'ar', 'ru', 'tr', 'el', 'bg', 'th', 'ur']\n",
    "\n",
    "df = pd.read_csv(data1)\n",
    "df = df[~df['labels'].isin(drop_list)]\n",
    "df.head()"
   ]
  },
  {
   "cell_type": "code",
   "execution_count": 77,
   "id": "f2338684",
   "metadata": {
    "pycharm": {
     "name": "#%%\n"
    }
   },
   "outputs": [
    {
     "name": "stdout",
     "output_type": "stream",
     "text": [
      "45000\n"
     ]
    }
   ],
   "source": [
    "print(len(df))"
   ]
  },
  {
   "cell_type": "code",
   "execution_count": 78,
   "id": "1dc43039",
   "metadata": {
    "pycharm": {
     "name": "#%%\n"
    }
   },
   "outputs": [],
   "source": [
    "# Print iterations progress\n",
    "def printProgressBar (iteration, total, prefix = '', suffix = '', decimals = 1, length = 100, fill = '█', printEnd = \"\\r\"):\n",
    "    \"\"\"\n",
    "    Call in a loop to create terminal progress bar\n",
    "    @params:\n",
    "        iteration   - Required  : current iteration (Int)\n",
    "        total       - Required  : total iterations (Int)\n",
    "        prefix      - Optional  : prefix string (Str)\n",
    "        suffix      - Optional  : suffix string (Str)\n",
    "        decimals    - Optional  : positive number of decimals in percent complete (Int)\n",
    "        length      - Optional  : character length of bar (Int)\n",
    "        fill        - Optional  : bar fill character (Str)\n",
    "        printEnd    - Optional  : end character (e.g. \"\\r\", \"\\r\\n\") (Str)\n",
    "    \"\"\"\n",
    "    percent = (\"{0:.\" + str(decimals) + \"f}\").format(100 * (iteration / float(total)))\n",
    "    filledLength = int(length * iteration // total)\n",
    "    bar = fill * filledLength + '-' * (length - filledLength)\n",
    "    print(f'\\r{prefix} |{bar}| {percent}% {suffix}', end = printEnd)\n",
    "    # Print New Line on Complete\n",
    "    if iteration == total: \n",
    "        print()"
   ]
  },
  {
   "cell_type": "code",
   "execution_count": 79,
   "id": "569ed65a",
   "metadata": {},
   "outputs": [],
   "source": [
    "from sklearn.naive_bayes import MultinomialNB\n",
    "import numpy as np\n",
    "def optimize(X_train, X_test):\n",
    "    best_score = 0\n",
    "    best_alpha = 0.1\n",
    "    # Get the best alpha for the Model\n",
    "    # This can need some time\n",
    "    alphas = np.arange(0.01, 1, 0.01)\n",
    "    l = len(alphas)\n",
    "    printProgressBar(0, l, prefix = 'Progress:', suffix = 'Complete', length = 100)\n",
    "    progress = 0\n",
    "    for i in alphas: \n",
    "        printProgressBar\n",
    "        model = MultinomialNB(alpha=i)\n",
    "        model.fit(X_train, y_train)\n",
    "        current_score = model.score(X_test, y_test)\n",
    "        if current_score > best_score:\n",
    "            best_score = current_score\n",
    "            best_alpha = i\n",
    "        progress += 1\n",
    "        printProgressBar(progress, l, prefix = 'Progress:', suffix = 'Complete', length = 100)\n",
    "    return (best_score, best_alpha)"
   ]
  },
  {
   "cell_type": "code",
   "execution_count": 80,
   "id": "2333c5b7",
   "metadata": {},
   "outputs": [],
   "source": [
    "X = df[\"text\"]\n",
    "y = df[\"labels\"]"
   ]
  },
  {
   "cell_type": "code",
   "execution_count": 81,
   "id": "18e868d0",
   "metadata": {},
   "outputs": [],
   "source": [
    "# CountVectorizer\n",
    "from sklearn.model_selection import train_test_split\n",
    "from sklearn.feature_extraction.text import CountVectorizer\n",
    "\n",
    "X_train, X_test, y_train, y_test = train_test_split(X, y, random_state = 0)\n",
    "\n",
    "cv = CountVectorizer(min_df = 0.001, max_df = 0.25)\n",
    "X_cv = {\n",
    "    \"train\": cv.fit_transform(X_train),\n",
    "    \"test\": cv.transform(X_test),\n",
    "}"
   ]
  },
  {
   "cell_type": "code",
   "execution_count": 82,
   "id": "c288969e",
   "metadata": {
    "pycharm": {
     "name": "#%%\n"
    }
   },
   "outputs": [],
   "source": [
    "# TfidfVectorizer\n",
    "from sklearn.model_selection import train_test_split\n",
    "from sklearn.feature_extraction.text import TfidfVectorizer\n",
    "\n",
    "X_train, X_test, y_train, y_test = train_test_split(X, y, random_state = 1)\n",
    "\n",
    "tfidf = TfidfVectorizer(min_df=0, max_df = 0.25, use_idf=True,stop_words='english')\n",
    "\n",
    "X_tfidf = {\n",
    "    \"train\": tfidf.fit_transform(X_train),\n",
    "    \"test\": tfidf.transform(X_test),\n",
    "}"
   ]
  },
  {
   "cell_type": "code",
   "execution_count": 83,
   "id": "39638682",
   "metadata": {
    "pycharm": {
     "name": "#%%\n"
    }
   },
   "outputs": [
    {
     "name": "stdout",
     "output_type": "stream",
     "text": [
      "Progress: |████████████████████████████████████████████████████████████████████████████████████████████████████| 100.0% Complete\n",
      "Progress: |████████████████████████████████████████████████████████████████████████████████████████████████████| 100.0% Complete\n",
      "0.10453333333333334 0.9935111111111111\n"
     ]
    }
   ],
   "source": [
    "# Compare TfidfVectorizer with CountVectorizer\n",
    "from sklearn.naive_bayes import MultinomialNB\n",
    "import numpy as np\n",
    "\n",
    "best_score_cv, best_alpha_cv = optimize(X_cv['train'], X_cv['test']) # Progress 1\n",
    "best_score_tfidf, best_alpha_tfidf = optimize(X_tfidf['train'], X_tfidf['test']) # Progress 2\n",
    "print(best_score_cv, best_score_tfidf)"
   ]
  },
  {
   "cell_type": "code",
   "execution_count": 84,
   "id": "f0fd86a8",
   "metadata": {},
   "outputs": [
    {
     "data": {
      "text/plain": [
       "MultinomialNB(alpha=0.23)"
      ]
     },
     "execution_count": 84,
     "metadata": {},
     "output_type": "execute_result"
    }
   ],
   "source": [
    "# Create Model with the tfidf data\n",
    "model = MultinomialNB(alpha=best_alpha_tfidf)\n",
    "model.fit(X_tfidf['train'], y_train)"
   ]
  },
  {
   "cell_type": "code",
   "execution_count": 85,
   "id": "c5a282c8",
   "metadata": {
    "pycharm": {
     "name": "#%%\n"
    }
   },
   "outputs": [
    {
     "name": "stdout",
     "output_type": "stream",
     "text": [
      "Hi wie geht es dir\n",
      "['de']\n"
     ]
    }
   ],
   "source": [
    "# Test\n",
    "test = [\"Hi, wie geht es dir?\"]\n",
    "for val in test:\n",
    "    val = ''.join(e for e in val if e.isalnum() or e.isspace())\n",
    "print(val)\n",
    "print(model.predict(tfidf.transform(test)))"
   ]
  },
  {
   "cell_type": "code",
   "execution_count": 86,
   "id": "028512a2",
   "metadata": {
    "pycharm": {
     "name": "#%%\n"
    }
   },
   "outputs": [],
   "source": [
    "#export\n",
    "import pickle\n",
    "import os\n",
    "\n",
    "if (not os.path.isdir(\"./models\")):\n",
    "    os.mkdir(\"./models\")\n",
    "\n",
    "# Dump the Model to use it later\n",
    "filename = './models/model_mnb_lang_detect.sav'\n",
    "pickle.dump(model, open(filename, 'wb'))\n",
    "# Dump the Vectorizer to use it later\n",
    "filename = './models/tfidf_lang_detect.sav'\n",
    "pickle.dump(tfidf, open(filename, 'wb'))"
   ]
  },
  {
   "cell_type": "code",
   "execution_count": 87,
   "id": "eb7d8a81",
   "metadata": {
    "pycharm": {
     "name": "#%%\n"
    }
   },
   "outputs": [
    {
     "data": {
      "text/plain": [
       "<sklearn.metrics._plot.confusion_matrix.ConfusionMatrixDisplay at 0x25537338c10>"
      ]
     },
     "execution_count": 87,
     "metadata": {},
     "output_type": "execute_result"
    },
    {
     "data": {
      "image/png": "[encoded data removed]",
      "text/plain": [
       "<Figure size 1080x1080 with 2 Axes>"
      ]
     },
     "metadata": {
      "needs_background": "light"
     },
     "output_type": "display_data"
    }
   ],
   "source": [
    "# Visualize\n",
    "from sklearn.metrics import plot_confusion_matrix\n",
    "from matplotlib import pyplot as plt\n",
    "fig, ax = plt.subplots(figsize=(15, 15))\n",
    "\n",
    "y_test_pred = model.predict(X_tfidf['test'])\n",
    "plot_confusion_matrix(model, X_tfidf['test'], y_test, ax=ax, cmap='Blues')"
   ]
  },
  {
   "cell_type": "code",
   "execution_count": null,
   "id": "803a2508",
   "metadata": {},
   "outputs": [],
   "source": []
  }
 ],
 "metadata": {
  "kernelspec": {
   "display_name": "Python 3 (ipykernel)",
   "language": "python",
   "name": "python3"
  },
  "language_info": {
   "codemirror_mode": {
    "name": "ipython",
    "version": 3
   },
   "file_extension": ".py",
   "mimetype": "text/x-python",
   "name": "python",
   "nbconvert_exporter": "python",
   "pygments_lexer": "ipython3",
   "version": "3.9.7"
  }
 },
 "nbformat": 4,
 "nbformat_minor": 5
}
